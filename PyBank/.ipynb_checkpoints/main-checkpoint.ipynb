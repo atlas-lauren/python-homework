{
 "cells": [
  {
   "cell_type": "markdown",
   "id": "83c7d45f-0296-4694-bd9d-b552819b2fb9",
   "metadata": {},
   "source": [
    "# Step 1: import csv data"
   ]
  },
  {
   "cell_type": "code",
   "execution_count": 1,
   "id": "ecba476c-8118-4e49-b3e4-5858e00c0060",
   "metadata": {},
   "outputs": [],
   "source": [
    "import csv"
   ]
  },
  {
   "cell_type": "code",
   "execution_count": 2,
   "id": "3ab4ed60-3a14-40b8-bd7a-86f49127ec52",
   "metadata": {},
   "outputs": [],
   "source": [
    "from pathlib import Path"
   ]
  },
  {
   "cell_type": "markdown",
   "id": "19300158-ed40-436c-a475-dcfc9dc1784d",
   "metadata": {},
   "source": [
    "#### After some errors trying to use local path I decided to use root path instead"
   ]
  },
  {
   "cell_type": "code",
   "execution_count": 17,
   "id": "7865d9e7-a813-4be7-a3a6-4df1adcba91e",
   "metadata": {},
   "outputs": [],
   "source": [
    "budget_data = Path(\"/Users/laurenkrohn/Documents/UPENN-VIRT-FIN-PT-01-2022-U-LOL/02-Homework/02-Python/Instructions/PyBank/Resources/budget_data.csv\")"
   ]
  },
  {
   "cell_type": "markdown",
   "id": "07d94d28-84e1-4317-bcda-1f6628f37d66",
   "metadata": {},
   "source": [
    "#### To open and print the csv data:"
   ]
  },
  {
   "cell_type": "code",
   "execution_count": 20,
   "id": "a6868e8e-d202-4597-907b-85f16ed4b923",
   "metadata": {},
   "outputs": [
    {
     "name": "stdout",
     "output_type": "stream",
     "text": [
      "['Date', 'Profit/Losses']\n",
      "['Jan-2010', '867884']\n",
      "['Feb-2010', '984655']\n",
      "['Mar-2010', '322013']\n",
      "['Apr-2010', '-69417']\n",
      "['May-2010', '310503']\n",
      "['Jun-2010', '522857']\n",
      "['Jul-2010', '1033096']\n",
      "['Aug-2010', '604885']\n",
      "['Sep-2010', '-216386']\n",
      "['Oct-2010', '477532']\n",
      "['Nov-2010', '893810']\n",
      "['Dec-2010', '-80353']\n",
      "['Jan-2011', '779806']\n",
      "['Feb-2011', '-335203']\n",
      "['Mar-2011', '697845']\n",
      "['Apr-2011', '793163']\n",
      "['May-2011', '485070']\n",
      "['Jun-2011', '584122']\n",
      "['Jul-2011', '62729']\n",
      "['Aug-2011', '668179']\n",
      "['Sep-2011', '899906']\n",
      "['Oct-2011', '834719']\n",
      "['Nov-2011', '132003']\n",
      "['Dec-2011', '309978']\n",
      "['Jan-2012', '-755566']\n",
      "['Feb-2012', '1170593']\n",
      "['Mar-2012', '252788']\n",
      "['Apr-2012', '1151518']\n",
      "['May-2012', '817256']\n",
      "['Jun-2012', '570757']\n",
      "['Jul-2012', '506702']\n",
      "['Aug-2012', '-1022534']\n",
      "['Sep-2012', '475062']\n",
      "['Oct-2012', '779976']\n",
      "['Nov-2012', '144175']\n",
      "['Dec-2012', '542494']\n",
      "['Jan-2013', '359333']\n",
      "['Feb-2013', '321469']\n",
      "['Mar-2013', '67780']\n",
      "['Apr-2013', '471435']\n",
      "['May-2013', '565603']\n",
      "['Jun-2013', '872480']\n",
      "['Jul-2013', '789480']\n",
      "['Aug-2013', '999942']\n",
      "['Sep-2013', '-1196225']\n",
      "['Oct-2013', '268997']\n",
      "['Nov-2013', '-687986']\n",
      "['Dec-2013', '1150461']\n",
      "['Jan-2014', '682458']\n",
      "['Feb-2014', '617856']\n",
      "['Mar-2014', '824098']\n",
      "['Apr-2014', '581943']\n",
      "['May-2014', '132864']\n",
      "['Jun-2014', '448062']\n",
      "['Jul-2014', '689161']\n",
      "['Aug-2014', '800701']\n",
      "['Sep-2014', '1166643']\n",
      "['Oct-2014', '947333']\n",
      "['Nov-2014', '578668']\n",
      "['Dec-2014', '988505']\n",
      "['Jan-2015', '1139715']\n",
      "['Feb-2015', '1029471']\n",
      "['Mar-2015', '687533']\n",
      "['Apr-2015', '-524626']\n",
      "['May-2015', '158620']\n",
      "['Jun-2015', '87795']\n",
      "['Jul-2015', '423389']\n",
      "['Aug-2015', '840723']\n",
      "['Sep-2015', '568529']\n",
      "['Oct-2015', '332067']\n",
      "['Nov-2015', '989499']\n",
      "['Dec-2015', '778237']\n",
      "['Jan-2016', '650000']\n",
      "['Feb-2016', '-1100387']\n",
      "['Mar-2016', '-174946']\n",
      "['Apr-2016', '757143']\n",
      "['May-2016', '445709']\n",
      "['Jun-2016', '712961']\n",
      "['Jul-2016', '-1163797']\n",
      "['Aug-2016', '569899']\n",
      "['Sep-2016', '768450']\n",
      "['Oct-2016', '102685']\n",
      "['Nov-2016', '795914']\n",
      "['Dec-2016', '60988']\n",
      "['Jan-2017', '138230']\n",
      "['Feb-2017', '671099']\n"
     ]
    }
   ],
   "source": [
    "with open(budget_data) as financial_data:\n",
    "    imported_data = csv.reader(financial_data)\n",
    "    # print(imported_data)\n",
    "    for row in imported_data:\n",
    "        print(row)"
   ]
  },
  {
   "cell_type": "markdown",
   "id": "5c43b531-38c5-4988-9c38-cefa7762c8e1",
   "metadata": {},
   "source": [
    "# Step 2 - Convert this csv data to something I can work with"
   ]
  },
  {
   "cell_type": "markdown",
   "id": "98b6a6c0-daff-46ae-abbc-b9a2d6039c2a",
   "metadata": {},
   "source": [
    "#### First idea is to make it a dictionary. I copied the data and put it in a dictionary, but to fix the formatting I had to use command + clicking all the lines to highlight the same position in all the rows to (1) delete out all the front brackets, change the interior comma to a colon, delete out all the back brackets, add a comma after each line. E.g. I changed the entry ['Jan-2010', '867884'] in the imported data to 'Jan-2010': '867884', within my dictionary.\n",
    "\n",
    "#### The keys look fine as strings but after I click out of the command + click for all rows I realize I want to change all the values to integers. I'm sick of the command clicking right now though so I delay that."
   ]
  },
  {
   "cell_type": "code",
   "execution_count": 1,
   "id": "b0927854-504c-4dce-8381-febb9e80b9b0",
   "metadata": {},
   "outputs": [],
   "source": [
    "budget_dict = {\n",
    "    'Jan-2010': '867884',\n",
    "    'Feb-2010': '984655',\n",
    "    'Mar-2010': '322013',\n",
    "    'Apr-2010': '-69417',\n",
    "    'May-2010': '310503',\n",
    "    'Jun-2010': '522857',\n",
    "    'Jul-2010': '1033096',\n",
    "    'Aug-2010': '604885',\n",
    "    'Sep-2010': '-216386',\n",
    "    'Oct-2010': '477532',\n",
    "    'Nov-2010': '893810',\n",
    "    'Dec-2010': '-80353',\n",
    "    'Jan-2011': '779806',\n",
    "    'Feb-2011': '-335203',\n",
    "    'Mar-2011': '697845',\n",
    "    'Apr-2011': '793163',\n",
    "    'May-2011': '485070',\n",
    "    'Jun-2011': '584122',\n",
    "    'Jul-2011': '62729',\n",
    "    'Aug-2011': '668179',\n",
    "    'Sep-2011': '899906',\n",
    "    'Oct-2011': '834719',\n",
    "    'Nov-2011': '132003',\n",
    "    'Dec-2011': '309978',\n",
    "    'Jan-2012': '-755566',\n",
    "    'Feb-2012': '1170593',\n",
    "    'Mar-2012': '252788',\n",
    "    'Apr-2012': '1151518',\n",
    "    'May-2012': '817256',\n",
    "    'Jun-2012': '570757',\n",
    "    'Jul-2012': '506702',\n",
    "    'Aug-2012': '-1022534',\n",
    "    'Sep-2012': '475062',\n",
    "    'Oct-2012': '779976',\n",
    "    'Nov-2012': '144175',\n",
    "    'Dec-2012': '542494',\n",
    "    'Jan-2013': '359333',\n",
    "    'Feb-2013': '321469',\n",
    "    'Mar-2013': '67780',\n",
    "    'Apr-2013': '471435',\n",
    "    'May-2013': '565603',\n",
    "    'Jun-2013': '872480',\n",
    "    'Jul-2013': '789480',\n",
    "    'Aug-2013': '999942',\n",
    "    'Sep-2013': '-1196225',\n",
    "    'Oct-2013': '268997',\n",
    "    'Nov-2013': '-687986',\n",
    "    'Dec-2013': '1150461',\n",
    "    'Jan-2014': '682458',\n",
    "    'Feb-2014': '617856',\n",
    "    'Mar-2014': '824098',\n",
    "    'Apr-2014': '581943',\n",
    "    'May-2014': '132864',\n",
    "    'Jun-2014': '448062',\n",
    "    'Jul-2014': '689161',\n",
    "    'Aug-2014': '800701',\n",
    "    'Sep-2014': '1166643',\n",
    "    'Oct-2014': '947333',\n",
    "    'Nov-2014': '578668',\n",
    "    'Dec-2014': '988505',\n",
    "    'Jan-2015': '1139715',\n",
    "    'Feb-2015': '1029471',\n",
    "    'Mar-2015': '687533',\n",
    "    'Apr-2015': '-524626',\n",
    "    'May-2015': '158620',\n",
    "    'Jun-2015': '87795',\n",
    "    'Jul-2015': '423389',\n",
    "    'Aug-2015': '840723',\n",
    "    'Sep-2015': '568529',\n",
    "    'Oct-2015': '332067',\n",
    "    'Nov-2015': '989499',\n",
    "    'Dec-2015': '778237',\n",
    "    'Jan-2016': '650000',\n",
    "    'Feb-2016': '-1100387',\n",
    "    'Mar-2016': '-174946',\n",
    "    'Apr-2016': '757143',\n",
    "    'May-2016': '445709',\n",
    "    'Jun-2016': '712961',\n",
    "    'Jul-2016': '-1163797',\n",
    "    'Aug-2016': '569899',\n",
    "    'Sep-2016': '768450',\n",
    "    'Oct-2016': '102685',\n",
    "    'Nov-2016': '795914',\n",
    "    'Dec-2016': '60988',\n",
    "    'Jan-2017': '138230',\n",
    "    'Feb-2017': '671099'\n",
    "}"
   ]
  },
  {
   "cell_type": "markdown",
   "id": "2363b6ac-ab76-4d0b-9d4f-c5d447d9f211",
   "metadata": {},
   "source": [
    "# Step 3 - Find the total months included in the dataset"
   ]
  },
  {
   "cell_type": "markdown",
   "id": "1d3d93d6-f22c-4103-848c-cc544928c5aa",
   "metadata": {},
   "source": [
    "#### I have seen how to count all the keys, but I'm wondering if the months are all unique or if there are any duplicates. If there are duplicate months in this dictionary then I can't rely on just counting the number of keys because that won't give me an accurate count of the unique months. I can't figure out how to identify if there are any duplicate keys within the dictionary so I decide I'll just convert all my keys to a separate list."
   ]
  },
  {
   "cell_type": "code",
   "execution_count": 8,
   "id": "4cacece4-6d06-4676-8e01-a63cb36ac879",
   "metadata": {},
   "outputs": [
    {
     "data": {
      "text/plain": [
       "['Jan-2010',\n",
       " 'Feb-2010',\n",
       " 'Mar-2010',\n",
       " 'Apr-2010',\n",
       " 'May-2010',\n",
       " 'Jun-2010',\n",
       " 'Jul-2010',\n",
       " 'Aug-2010',\n",
       " 'Sep-2010',\n",
       " 'Oct-2010',\n",
       " 'Nov-2010',\n",
       " 'Dec-2010',\n",
       " 'Jan-2011',\n",
       " 'Feb-2011',\n",
       " 'Mar-2011',\n",
       " 'Apr-2011',\n",
       " 'May-2011',\n",
       " 'Jun-2011',\n",
       " 'Jul-2011',\n",
       " 'Aug-2011',\n",
       " 'Sep-2011',\n",
       " 'Oct-2011',\n",
       " 'Nov-2011',\n",
       " 'Dec-2011',\n",
       " 'Jan-2012',\n",
       " 'Feb-2012',\n",
       " 'Mar-2012',\n",
       " 'Apr-2012',\n",
       " 'May-2012',\n",
       " 'Jun-2012',\n",
       " 'Jul-2012',\n",
       " 'Aug-2012',\n",
       " 'Sep-2012',\n",
       " 'Oct-2012',\n",
       " 'Nov-2012',\n",
       " 'Dec-2012',\n",
       " 'Jan-2013',\n",
       " 'Feb-2013',\n",
       " 'Mar-2013',\n",
       " 'Apr-2013',\n",
       " 'May-2013',\n",
       " 'Jun-2013',\n",
       " 'Jul-2013',\n",
       " 'Aug-2013',\n",
       " 'Sep-2013',\n",
       " 'Oct-2013',\n",
       " 'Nov-2013',\n",
       " 'Dec-2013',\n",
       " 'Jan-2014',\n",
       " 'Feb-2014',\n",
       " 'Mar-2014',\n",
       " 'Apr-2014',\n",
       " 'May-2014',\n",
       " 'Jun-2014',\n",
       " 'Jul-2014',\n",
       " 'Aug-2014',\n",
       " 'Sep-2014',\n",
       " 'Oct-2014',\n",
       " 'Nov-2014',\n",
       " 'Dec-2014',\n",
       " 'Jan-2015',\n",
       " 'Feb-2015',\n",
       " 'Mar-2015',\n",
       " 'Apr-2015',\n",
       " 'May-2015',\n",
       " 'Jun-2015',\n",
       " 'Jul-2015',\n",
       " 'Aug-2015',\n",
       " 'Sep-2015',\n",
       " 'Oct-2015',\n",
       " 'Nov-2015',\n",
       " 'Dec-2015',\n",
       " 'Jan-2016',\n",
       " 'Feb-2016',\n",
       " 'Mar-2016',\n",
       " 'Apr-2016',\n",
       " 'May-2016',\n",
       " 'Jun-2016',\n",
       " 'Jul-2016',\n",
       " 'Aug-2016',\n",
       " 'Sep-2016',\n",
       " 'Oct-2016',\n",
       " 'Nov-2016',\n",
       " 'Dec-2016',\n",
       " 'Jan-2017',\n",
       " 'Feb-2017']"
      ]
     },
     "execution_count": 8,
     "metadata": {},
     "output_type": "execute_result"
    }
   ],
   "source": [
    "list(budget_dict.keys())"
   ]
  },
  {
   "cell_type": "markdown",
   "id": "7d4e8f50-4124-4f1b-ab6f-10714efac531",
   "metadata": {},
   "source": [
    "#### To define my list on months:"
   ]
  },
  {
   "cell_type": "code",
   "execution_count": 4,
   "id": "e25aade8-b6f0-4364-94d7-073c127e6745",
   "metadata": {},
   "outputs": [],
   "source": [
    "months = list(budget_dict.keys())"
   ]
  },
  {
   "cell_type": "markdown",
   "id": "417b36ae-f792-40e5-a66f-854e541e339e",
   "metadata": {},
   "source": [
    "#### Now to check if all values are unique, I look up a function to check for duplicates:"
   ]
  },
  {
   "cell_type": "code",
   "execution_count": 6,
   "id": "e21cb427-55dd-4684-9a68-697f446e1038",
   "metadata": {},
   "outputs": [],
   "source": [
    "def checkdupes(data_row):\n",
    "    for row in data_row:\n",
    "        if data_row.count(row) > 1:\n",
    "            return True\n",
    "    return False"
   ]
  },
  {
   "cell_type": "code",
   "execution_count": 7,
   "id": "6e3db299-e1a3-4908-965a-74ae17faa5b2",
   "metadata": {},
   "outputs": [
    {
     "data": {
      "text/plain": [
       "False"
      ]
     },
     "execution_count": 7,
     "metadata": {},
     "output_type": "execute_result"
    }
   ],
   "source": [
    "checkdupes(months)"
   ]
  },
  {
   "cell_type": "markdown",
   "id": "013cfc80-c443-4549-8b78-1f4baf43bda4",
   "metadata": {},
   "source": [
    "#### Now that I know all the entries in my months list are unique values I'm ok with just straight printing the number of entries in this list, because I know the number of entries equals the number of months. Use the len function:"
   ]
  },
  {
   "cell_type": "code",
   "execution_count": 11,
   "id": "f74d4e0c-1eca-420a-8869-cf00da95a43f",
   "metadata": {},
   "outputs": [
    {
     "name": "stdout",
     "output_type": "stream",
     "text": [
      "86\n"
     ]
    }
   ],
   "source": [
    "print(len(months))"
   ]
  },
  {
   "cell_type": "markdown",
   "id": "93cc12fe-bf88-4efd-b78b-7114108a174e",
   "metadata": {},
   "source": [
    "#### Also, now that I know I don't have to worry about duplicate keys, I could have use the .keys() to count the keys. I'm curious to see if counting the months in my list vs. counting the keys in the dictionary comes up with the same number:"
   ]
  },
  {
   "cell_type": "code",
   "execution_count": 15,
   "id": "d013d971-f122-46d5-90e1-09a04896f295",
   "metadata": {},
   "outputs": [
    {
     "name": "stdout",
     "output_type": "stream",
     "text": [
      "86\n"
     ]
    }
   ],
   "source": [
    "print(len(budget_dict.keys()))"
   ]
  },
  {
   "cell_type": "markdown",
   "id": "2e3f450d-7fa9-49f1-ac72-f093008fcebf",
   "metadata": {},
   "source": [
    "#### It does, yay! I realize I can define my \"total_months\" variable using either the list or the dictionary keys, but I can't think of a reason why one would be better than the other, so I just use the months list."
   ]
  },
  {
   "cell_type": "code",
   "execution_count": 20,
   "id": "f39f652d-6df3-4eb8-b024-76c51500917b",
   "metadata": {},
   "outputs": [],
   "source": [
    "total_months = len(months)"
   ]
  },
  {
   "cell_type": "markdown",
   "id": "8885008d-43ce-4926-bdee-6e7f5d7e3ccc",
   "metadata": {},
   "source": [
    "# Step 4 - find the net total of all profits/losses over the entire period"
   ]
  },
  {
   "cell_type": "markdown",
   "id": "7820fe60-fe38-4a25-952c-5298d984779c",
   "metadata": {},
   "source": [
    "#### The values in my dictionary are entered as strings, not values, so I'm pretty sure I can't calculate over them right now, but I hope for some magic here so I don't have to go back and command + click everything again:"
   ]
  },
  {
   "cell_type": "code",
   "execution_count": 18,
   "id": "7fc262f7-bc75-4edb-a985-81eba9db86bc",
   "metadata": {},
   "outputs": [
    {
     "ename": "TypeError",
     "evalue": "unsupported operand type(s) for +: 'int' and 'str'",
     "output_type": "error",
     "traceback": [
      "\u001b[0;31m---------------------------------------------------------------------------\u001b[0m",
      "\u001b[0;31mTypeError\u001b[0m                                 Traceback (most recent call last)",
      "\u001b[0;32m/var/folders/d9/6r5nm8y56sbbg2kbt5s3pxhr0000gn/T/ipykernel_14188/1509878156.py\u001b[0m in \u001b[0;36m<module>\u001b[0;34m\u001b[0m\n\u001b[0;32m----> 1\u001b[0;31m \u001b[0mprint\u001b[0m\u001b[0;34m(\u001b[0m\u001b[0msum\u001b[0m\u001b[0;34m(\u001b[0m\u001b[0mbudget_dict\u001b[0m\u001b[0;34m.\u001b[0m\u001b[0mvalues\u001b[0m\u001b[0;34m(\u001b[0m\u001b[0;34m)\u001b[0m\u001b[0;34m)\u001b[0m\u001b[0;34m)\u001b[0m\u001b[0;34m\u001b[0m\u001b[0;34m\u001b[0m\u001b[0m\n\u001b[0m",
      "\u001b[0;31mTypeError\u001b[0m: unsupported operand type(s) for +: 'int' and 'str'"
     ]
    }
   ],
   "source": [
    "print(sum(budget_dict.values()))"
   ]
  },
  {
   "cell_type": "markdown",
   "id": "642504d3-cede-40ad-b871-072d4440e4bd",
   "metadata": {},
   "source": [
    "#### Yeah, no dice. I still don't really want to command + click and have to go in and change everything manually. Isn't there a find and replace?? I embark on a tortured journey to convert all the values in my dictionary to integers. Maybe this will be easier if I turn the values into a list:"
   ]
  },
  {
   "cell_type": "code",
   "execution_count": 19,
   "id": "0a14ff3b-c229-46e1-8d36-37332a541bee",
   "metadata": {},
   "outputs": [
    {
     "data": {
      "text/plain": [
       "['867884',\n",
       " '984655',\n",
       " '322013',\n",
       " '-69417',\n",
       " '310503',\n",
       " '522857',\n",
       " '1033096',\n",
       " '604885',\n",
       " '-216386',\n",
       " '477532',\n",
       " '893810',\n",
       " '-80353',\n",
       " '779806',\n",
       " '-335203',\n",
       " '697845',\n",
       " '793163',\n",
       " '485070',\n",
       " '584122',\n",
       " '62729',\n",
       " '668179',\n",
       " '899906',\n",
       " '834719',\n",
       " '132003',\n",
       " '309978',\n",
       " '-755566',\n",
       " '1170593',\n",
       " '252788',\n",
       " '1151518',\n",
       " '817256',\n",
       " '570757',\n",
       " '506702',\n",
       " '-1022534',\n",
       " '475062',\n",
       " '779976',\n",
       " '144175',\n",
       " '542494',\n",
       " '359333',\n",
       " '321469',\n",
       " '67780',\n",
       " '471435',\n",
       " '565603',\n",
       " '872480',\n",
       " '789480',\n",
       " '999942',\n",
       " '-1196225',\n",
       " '268997',\n",
       " '-687986',\n",
       " '1150461',\n",
       " '682458',\n",
       " '617856',\n",
       " '824098',\n",
       " '581943',\n",
       " '132864',\n",
       " '448062',\n",
       " '689161',\n",
       " '800701',\n",
       " '1166643',\n",
       " '947333',\n",
       " '578668',\n",
       " '988505',\n",
       " '1139715',\n",
       " '1029471',\n",
       " '687533',\n",
       " '-524626',\n",
       " '158620',\n",
       " '87795',\n",
       " '423389',\n",
       " '840723',\n",
       " '568529',\n",
       " '332067',\n",
       " '989499',\n",
       " '778237',\n",
       " '650000',\n",
       " '-1100387',\n",
       " '-174946',\n",
       " '757143',\n",
       " '445709',\n",
       " '712961',\n",
       " '-1163797',\n",
       " '569899',\n",
       " '768450',\n",
       " '102685',\n",
       " '795914',\n",
       " '60988',\n",
       " '138230',\n",
       " '671099']"
      ]
     },
     "execution_count": 19,
     "metadata": {},
     "output_type": "execute_result"
    }
   ],
   "source": [
    "list(budget_dict.values())"
   ]
  },
  {
   "cell_type": "markdown",
   "id": "3f735f10-7746-4d1b-a582-1eae690a1774",
   "metadata": {},
   "source": [
    "#### Defining my list of profit/loss values:"
   ]
  },
  {
   "cell_type": "code",
   "execution_count": 21,
   "id": "59996bd1-7342-402a-93f8-ce3eea8c2365",
   "metadata": {},
   "outputs": [],
   "source": [
    "pl_values = list(budget_dict.values())"
   ]
  },
  {
   "cell_type": "markdown",
   "id": "36625bb1-53ec-42ce-9d86-02eb8c624c51",
   "metadata": {},
   "source": [
    "#### But I still need to convert these to integers. I trial and error all sorts of for loops and finally find this loop that works:"
   ]
  },
  {
   "cell_type": "code",
   "execution_count": 25,
   "id": "b5d88f99-7584-4bc2-9011-af50aa6f8d37",
   "metadata": {},
   "outputs": [],
   "source": [
    "pl_values = [int(pl) for pl in pl_values]"
   ]
  },
  {
   "cell_type": "code",
   "execution_count": 26,
   "id": "5767a7f2-dc5a-4316-a36f-f24633a49ae9",
   "metadata": {},
   "outputs": [
    {
     "data": {
      "text/plain": [
       "[867884,\n",
       " 984655,\n",
       " 322013,\n",
       " -69417,\n",
       " 310503,\n",
       " 522857,\n",
       " 1033096,\n",
       " 604885,\n",
       " -216386,\n",
       " 477532,\n",
       " 893810,\n",
       " -80353,\n",
       " 779806,\n",
       " -335203,\n",
       " 697845,\n",
       " 793163,\n",
       " 485070,\n",
       " 584122,\n",
       " 62729,\n",
       " 668179,\n",
       " 899906,\n",
       " 834719,\n",
       " 132003,\n",
       " 309978,\n",
       " -755566,\n",
       " 1170593,\n",
       " 252788,\n",
       " 1151518,\n",
       " 817256,\n",
       " 570757,\n",
       " 506702,\n",
       " -1022534,\n",
       " 475062,\n",
       " 779976,\n",
       " 144175,\n",
       " 542494,\n",
       " 359333,\n",
       " 321469,\n",
       " 67780,\n",
       " 471435,\n",
       " 565603,\n",
       " 872480,\n",
       " 789480,\n",
       " 999942,\n",
       " -1196225,\n",
       " 268997,\n",
       " -687986,\n",
       " 1150461,\n",
       " 682458,\n",
       " 617856,\n",
       " 824098,\n",
       " 581943,\n",
       " 132864,\n",
       " 448062,\n",
       " 689161,\n",
       " 800701,\n",
       " 1166643,\n",
       " 947333,\n",
       " 578668,\n",
       " 988505,\n",
       " 1139715,\n",
       " 1029471,\n",
       " 687533,\n",
       " -524626,\n",
       " 158620,\n",
       " 87795,\n",
       " 423389,\n",
       " 840723,\n",
       " 568529,\n",
       " 332067,\n",
       " 989499,\n",
       " 778237,\n",
       " 650000,\n",
       " -1100387,\n",
       " -174946,\n",
       " 757143,\n",
       " 445709,\n",
       " 712961,\n",
       " -1163797,\n",
       " 569899,\n",
       " 768450,\n",
       " 102685,\n",
       " 795914,\n",
       " 60988,\n",
       " 138230,\n",
       " 671099]"
      ]
     },
     "execution_count": 26,
     "metadata": {},
     "output_type": "execute_result"
    }
   ],
   "source": [
    "pl_values"
   ]
  },
  {
   "cell_type": "markdown",
   "id": "27d193b9-16fa-40a0-b27f-f14bda0f22f1",
   "metadata": {},
   "source": [
    "#### That's all fine to have a new list with the values as integers, but how do I get this back into my dictionary?? In case I need to match up the values with the months down the line? I try a bunch of different things to overwrite my original dictionary with my new values list but they don't work. I finally find this method for creating a new dictionary using the old dictionary, but just converting the current value to an integer data type. So it turns out I didn't need my list for this but whatever, it might still be useful.\n",
    "\n",
    "#### I make my new budget dictionary with the values listed as integers:"
   ]
  },
  {
   "cell_type": "code",
   "execution_count": 33,
   "id": "1f0bd0e3-cce3-4552-ada4-23aeb6fa6256",
   "metadata": {},
   "outputs": [],
   "source": [
    "keys_values = budget_dict.items()"
   ]
  },
  {
   "cell_type": "code",
   "execution_count": 34,
   "id": "27d9877b-92ac-45e3-8789-36e55526256b",
   "metadata": {},
   "outputs": [],
   "source": [
    "new_budget_dict = {str(key):int(value) for key,value in keys_values}"
   ]
  },
  {
   "cell_type": "code",
   "execution_count": 35,
   "id": "e01387c3-d7b7-4ab3-b388-cf493eeb1219",
   "metadata": {},
   "outputs": [
    {
     "data": {
      "text/plain": [
       "{'Jan-2010': 867884,\n",
       " 'Feb-2010': 984655,\n",
       " 'Mar-2010': 322013,\n",
       " 'Apr-2010': -69417,\n",
       " 'May-2010': 310503,\n",
       " 'Jun-2010': 522857,\n",
       " 'Jul-2010': 1033096,\n",
       " 'Aug-2010': 604885,\n",
       " 'Sep-2010': -216386,\n",
       " 'Oct-2010': 477532,\n",
       " 'Nov-2010': 893810,\n",
       " 'Dec-2010': -80353,\n",
       " 'Jan-2011': 779806,\n",
       " 'Feb-2011': -335203,\n",
       " 'Mar-2011': 697845,\n",
       " 'Apr-2011': 793163,\n",
       " 'May-2011': 485070,\n",
       " 'Jun-2011': 584122,\n",
       " 'Jul-2011': 62729,\n",
       " 'Aug-2011': 668179,\n",
       " 'Sep-2011': 899906,\n",
       " 'Oct-2011': 834719,\n",
       " 'Nov-2011': 132003,\n",
       " 'Dec-2011': 309978,\n",
       " 'Jan-2012': -755566,\n",
       " 'Feb-2012': 1170593,\n",
       " 'Mar-2012': 252788,\n",
       " 'Apr-2012': 1151518,\n",
       " 'May-2012': 817256,\n",
       " 'Jun-2012': 570757,\n",
       " 'Jul-2012': 506702,\n",
       " 'Aug-2012': -1022534,\n",
       " 'Sep-2012': 475062,\n",
       " 'Oct-2012': 779976,\n",
       " 'Nov-2012': 144175,\n",
       " 'Dec-2012': 542494,\n",
       " 'Jan-2013': 359333,\n",
       " 'Feb-2013': 321469,\n",
       " 'Mar-2013': 67780,\n",
       " 'Apr-2013': 471435,\n",
       " 'May-2013': 565603,\n",
       " 'Jun-2013': 872480,\n",
       " 'Jul-2013': 789480,\n",
       " 'Aug-2013': 999942,\n",
       " 'Sep-2013': -1196225,\n",
       " 'Oct-2013': 268997,\n",
       " 'Nov-2013': -687986,\n",
       " 'Dec-2013': 1150461,\n",
       " 'Jan-2014': 682458,\n",
       " 'Feb-2014': 617856,\n",
       " 'Mar-2014': 824098,\n",
       " 'Apr-2014': 581943,\n",
       " 'May-2014': 132864,\n",
       " 'Jun-2014': 448062,\n",
       " 'Jul-2014': 689161,\n",
       " 'Aug-2014': 800701,\n",
       " 'Sep-2014': 1166643,\n",
       " 'Oct-2014': 947333,\n",
       " 'Nov-2014': 578668,\n",
       " 'Dec-2014': 988505,\n",
       " 'Jan-2015': 1139715,\n",
       " 'Feb-2015': 1029471,\n",
       " 'Mar-2015': 687533,\n",
       " 'Apr-2015': -524626,\n",
       " 'May-2015': 158620,\n",
       " 'Jun-2015': 87795,\n",
       " 'Jul-2015': 423389,\n",
       " 'Aug-2015': 840723,\n",
       " 'Sep-2015': 568529,\n",
       " 'Oct-2015': 332067,\n",
       " 'Nov-2015': 989499,\n",
       " 'Dec-2015': 778237,\n",
       " 'Jan-2016': 650000,\n",
       " 'Feb-2016': -1100387,\n",
       " 'Mar-2016': -174946,\n",
       " 'Apr-2016': 757143,\n",
       " 'May-2016': 445709,\n",
       " 'Jun-2016': 712961,\n",
       " 'Jul-2016': -1163797,\n",
       " 'Aug-2016': 569899,\n",
       " 'Sep-2016': 768450,\n",
       " 'Oct-2016': 102685,\n",
       " 'Nov-2016': 795914,\n",
       " 'Dec-2016': 60988,\n",
       " 'Jan-2017': 138230,\n",
       " 'Feb-2017': 671099}"
      ]
     },
     "execution_count": 35,
     "metadata": {},
     "output_type": "execute_result"
    }
   ],
   "source": [
    "new_budget_dict"
   ]
  },
  {
   "cell_type": "markdown",
   "id": "d1e4a807-6f91-4589-a4ca-e1674e2c6b5d",
   "metadata": {},
   "source": [
    "#### After all that I just need a sum of all the values, so I can use the list after all:"
   ]
  },
  {
   "cell_type": "code",
   "execution_count": 36,
   "id": "d5c90d62-70bb-4630-85ff-dd5b7afb4c44",
   "metadata": {},
   "outputs": [
    {
     "data": {
      "text/plain": [
       "38382578"
      ]
     },
     "execution_count": 36,
     "metadata": {},
     "output_type": "execute_result"
    }
   ],
   "source": [
    "sum(pl_values)"
   ]
  },
  {
   "cell_type": "markdown",
   "id": "79a8d222-927b-4223-977b-b76b1b6e4a2c",
   "metadata": {},
   "source": [
    "#### Now that I'm writing this out, I'm curious if my original attempt to sum the values would have worked with this new dictionary:"
   ]
  },
  {
   "cell_type": "code",
   "execution_count": 106,
   "id": "0dee88bf-25d0-4093-8160-c4dd229e19a2",
   "metadata": {},
   "outputs": [
    {
     "name": "stdout",
     "output_type": "stream",
     "text": [
      "38382578\n"
     ]
    }
   ],
   "source": [
    "print(sum(new_budget_dict.values()))"
   ]
  },
  {
   "cell_type": "markdown",
   "id": "57c8dbe7-8642-40b7-ab37-f9f53e42fda6",
   "metadata": {},
   "source": [
    "#### It does, the sums are the same! \n",
    "\n",
    "#### I define my total now so I can print it (I also realize I should start gathering these variables in a print function and start collecting that in a separate row). To define the variable for total I just use the sum of the list:"
   ]
  },
  {
   "cell_type": "code",
   "execution_count": 37,
   "id": "f9dec32f-e4b3-48c1-a70d-af9047deca64",
   "metadata": {},
   "outputs": [],
   "source": [
    "total = sum(pl_values)"
   ]
  },
  {
   "cell_type": "markdown",
   "id": "003a2022-3617-4a7b-83be-939ae120db34",
   "metadata": {},
   "source": [
    "# Step 5 - find the average of the changes in profit/loss over the entire period"
   ]
  },
  {
   "cell_type": "markdown",
   "id": "77179c19-0e41-4890-9901-4f4089f6fa75",
   "metadata": {},
   "source": [
    "#### I know that the manual way to do this calculation would be to find the difference between the 1st month's value from the second month's value, and then between the 2nd and 3rd month, and so on to the end of the list. Then if I find the average of those new values (add all those values together and divide by the total number of values) I'll get the average amount of change in profit/loss over this time period. But how to do it? \n",
    "\n",
    "#### This seems like there should be an easy function already set up to do this, so I mess around on the internet for a while and can't find anything satisfactory - it seems really hard to make this happen while the data is still in the dictionary, but I also can't really find anything good even if I use the data in its extracted form in the pl_values list. \n",
    "\n",
    "#### I decide I should probably work on the basics anyway and figure it out using a for loop. I find a method of creating a list that shows the change between values in a list, and apply it to the pl_values list that I've already created:"
   ]
  },
  {
   "cell_type": "code",
   "execution_count": 43,
   "id": "ce3a683c-c1bd-452d-8cb6-983536df553d",
   "metadata": {},
   "outputs": [],
   "source": [
    "pl_change = [pl_values[pl + 1] - pl_values[pl] for pl in range(len(pl_values)-1)]"
   ]
  },
  {
   "cell_type": "markdown",
   "id": "7f78b1e7-d9bd-49de-a07f-5088bcb24682",
   "metadata": {},
   "source": [
    "#### It looks like what it does is define a new list that... actually I don't really know what it's doing. I test it out though and it works:"
   ]
  },
  {
   "cell_type": "code",
   "execution_count": 44,
   "id": "012cebe9-2d0e-450d-a7ea-e0f947557f64",
   "metadata": {},
   "outputs": [
    {
     "data": {
      "text/plain": [
       "[116771,\n",
       " -662642,\n",
       " -391430,\n",
       " 379920,\n",
       " 212354,\n",
       " 510239,\n",
       " -428211,\n",
       " -821271,\n",
       " 693918,\n",
       " 416278,\n",
       " -974163,\n",
       " 860159,\n",
       " -1115009,\n",
       " 1033048,\n",
       " 95318,\n",
       " -308093,\n",
       " 99052,\n",
       " -521393,\n",
       " 605450,\n",
       " 231727,\n",
       " -65187,\n",
       " -702716,\n",
       " 177975,\n",
       " -1065544,\n",
       " 1926159,\n",
       " -917805,\n",
       " 898730,\n",
       " -334262,\n",
       " -246499,\n",
       " -64055,\n",
       " -1529236,\n",
       " 1497596,\n",
       " 304914,\n",
       " -635801,\n",
       " 398319,\n",
       " -183161,\n",
       " -37864,\n",
       " -253689,\n",
       " 403655,\n",
       " 94168,\n",
       " 306877,\n",
       " -83000,\n",
       " 210462,\n",
       " -2196167,\n",
       " 1465222,\n",
       " -956983,\n",
       " 1838447,\n",
       " -468003,\n",
       " -64602,\n",
       " 206242,\n",
       " -242155,\n",
       " -449079,\n",
       " 315198,\n",
       " 241099,\n",
       " 111540,\n",
       " 365942,\n",
       " -219310,\n",
       " -368665,\n",
       " 409837,\n",
       " 151210,\n",
       " -110244,\n",
       " -341938,\n",
       " -1212159,\n",
       " 683246,\n",
       " -70825,\n",
       " 335594,\n",
       " 417334,\n",
       " -272194,\n",
       " -236462,\n",
       " 657432,\n",
       " -211262,\n",
       " -128237,\n",
       " -1750387,\n",
       " 925441,\n",
       " 932089,\n",
       " -311434,\n",
       " 267252,\n",
       " -1876758,\n",
       " 1733696,\n",
       " 198551,\n",
       " -665765,\n",
       " 693229,\n",
       " -734926,\n",
       " 77242,\n",
       " 532869]"
      ]
     },
     "execution_count": 44,
     "metadata": {},
     "output_type": "execute_result"
    }
   ],
   "source": [
    "pl_change"
   ]
  },
  {
   "cell_type": "markdown",
   "id": "4be63cf6-a383-4086-a478-37fd0b902099",
   "metadata": {},
   "source": [
    "#### Now that I'm narrating this I'm more curious about how that code accomplished that list, so will try to break it out.\n",
    "\n",
    "#### Working with: pl_change = [pl_values[pl + 1] - pl_values[pl] for pl in range(len(pl_values)-1)] "
   ]
  },
  {
   "cell_type": "code",
   "execution_count": 110,
   "id": "28c763bf-af8b-4e8b-abef-18e2a5a22f58",
   "metadata": {},
   "outputs": [],
   "source": [
    "pl_change_pt1 = [pl_values[pl] for pl in range(len(pl_values)-1)]"
   ]
  },
  {
   "cell_type": "code",
   "execution_count": 111,
   "id": "275798a4-0f6f-4cd1-9d79-9aea67288b62",
   "metadata": {},
   "outputs": [
    {
     "data": {
      "text/plain": [
       "[867884,\n",
       " 984655,\n",
       " 322013,\n",
       " -69417,\n",
       " 310503,\n",
       " 522857,\n",
       " 1033096,\n",
       " 604885,\n",
       " -216386,\n",
       " 477532,\n",
       " 893810,\n",
       " -80353,\n",
       " 779806,\n",
       " -335203,\n",
       " 697845,\n",
       " 793163,\n",
       " 485070,\n",
       " 584122,\n",
       " 62729,\n",
       " 668179,\n",
       " 899906,\n",
       " 834719,\n",
       " 132003,\n",
       " 309978,\n",
       " -755566,\n",
       " 1170593,\n",
       " 252788,\n",
       " 1151518,\n",
       " 817256,\n",
       " 570757,\n",
       " 506702,\n",
       " -1022534,\n",
       " 475062,\n",
       " 779976,\n",
       " 144175,\n",
       " 542494,\n",
       " 359333,\n",
       " 321469,\n",
       " 67780,\n",
       " 471435,\n",
       " 565603,\n",
       " 872480,\n",
       " 789480,\n",
       " 999942,\n",
       " -1196225,\n",
       " 268997,\n",
       " -687986,\n",
       " 1150461,\n",
       " 682458,\n",
       " 617856,\n",
       " 824098,\n",
       " 581943,\n",
       " 132864,\n",
       " 448062,\n",
       " 689161,\n",
       " 800701,\n",
       " 1166643,\n",
       " 947333,\n",
       " 578668,\n",
       " 988505,\n",
       " 1139715,\n",
       " 1029471,\n",
       " 687533,\n",
       " -524626,\n",
       " 158620,\n",
       " 87795,\n",
       " 423389,\n",
       " 840723,\n",
       " 568529,\n",
       " 332067,\n",
       " 989499,\n",
       " 778237,\n",
       " 650000,\n",
       " -1100387,\n",
       " -174946,\n",
       " 757143,\n",
       " 445709,\n",
       " 712961,\n",
       " -1163797,\n",
       " 569899,\n",
       " 768450,\n",
       " 102685,\n",
       " 795914,\n",
       " 60988,\n",
       " 138230]"
      ]
     },
     "execution_count": 111,
     "metadata": {},
     "output_type": "execute_result"
    }
   ],
   "source": [
    "pl_change_pt1"
   ]
  },
  {
   "cell_type": "markdown",
   "id": "45dadf29-eae4-4843-b193-b742de0d59c5",
   "metadata": {},
   "source": [
    "#### Working with: pl_change = [pl_values[pl + 1] - pl_values[pl] for pl in range(len(pl_values)-1)] \n",
    "\n",
    "#### So this means if I if break out the [pl_values[pl] for pl in range(len(pl_values)-1)] part of this, that just gives me the pl_values list, minus the last value in that list  (671099). What the heck?"
   ]
  },
  {
   "cell_type": "code",
   "execution_count": 115,
   "id": "9031b10c-461f-4c3f-adf8-945d1baba321",
   "metadata": {},
   "outputs": [
    {
     "name": "stdout",
     "output_type": "stream",
     "text": [
      "85\n"
     ]
    }
   ],
   "source": [
    "print(len(pl_values)-1)"
   ]
  },
  {
   "cell_type": "markdown",
   "id": "107e9c04-2a62-44ba-bb38-9d9add6067f2",
   "metadata": {},
   "source": [
    "#### That last part just gives the number of rows minus 1. I'm having trouble with why this all works because I can't figure out what is being subtracted and what goes in the for loop and why.\n",
    "\n",
    "#### Working with: pl_change = [pl_values[pl + 1] - pl_values[pl] for pl in range(len(pl_values)-1)] \n",
    "\n",
    "#### It looks like it's saying: (the value of pl_value[index number +1] minus the value at the pl_values[index number just before it])... this first clause is essentially the clause that gives us the change value... is going to be substituted into the list in the range for the pl_values list. That makes sense to me but I'm not sure why the range is defined by using len(pl_value)-1. \n",
    "\n",
    "#### I table this for now because I've verified that it works by spot-checking it manually."
   ]
  },
  {
   "cell_type": "markdown",
   "id": "6927ef0b-9a05-470c-a388-2e8c30d6386c",
   "metadata": {},
   "source": [
    "#### Back to the original problem: how to solve for the average change. At this point I have my good list of changes so I just need to take the average. "
   ]
  },
  {
   "cell_type": "code",
   "execution_count": 122,
   "id": "fa20339d-b8dd-4e45-85f3-428d99a91615",
   "metadata": {},
   "outputs": [],
   "source": [
    "avg_change_firsttry = sum(pl_change)/len(pl_change)"
   ]
  },
  {
   "cell_type": "code",
   "execution_count": 123,
   "id": "ff055702-a5a9-4a71-87a9-2a13201262d5",
   "metadata": {},
   "outputs": [
    {
     "data": {
      "text/plain": [
       "-2315.1176470588234"
      ]
     },
     "execution_count": 123,
     "metadata": {},
     "output_type": "execute_result"
    }
   ],
   "source": [
    "avg_change_firsttry"
   ]
  },
  {
   "cell_type": "markdown",
   "id": "7debf634-165d-49ae-8cca-717ef89b6902",
   "metadata": {},
   "source": [
    "#### I realize I want to cut the decimals off so I add a round function, and define the variable with the rounding included:"
   ]
  },
  {
   "cell_type": "code",
   "execution_count": 49,
   "id": "693798fc-235c-4bb2-a402-4dc9992769ba",
   "metadata": {},
   "outputs": [],
   "source": [
    "avg_change = round(sum(pl_change)/len(pl_change), 2)"
   ]
  },
  {
   "cell_type": "code",
   "execution_count": 50,
   "id": "e9621f0c-fdb5-4b71-a0ff-1e830b545241",
   "metadata": {},
   "outputs": [
    {
     "data": {
      "text/plain": [
       "-2315.12"
      ]
     },
     "execution_count": 50,
     "metadata": {},
     "output_type": "execute_result"
    }
   ],
   "source": [
    "avg_change"
   ]
  },
  {
   "cell_type": "markdown",
   "id": "c8676208-314a-4b5f-8b8e-c6831a91adf2",
   "metadata": {},
   "source": [
    "# Step 6 - Print the date and amount of the greatest increase in profits, and decrease in losses, over the entire period"
   ]
  },
  {
   "cell_type": "markdown",
   "id": "b10ce062-abd9-4efb-93b7-c07085f981b3",
   "metadata": {},
   "source": [
    "#### I realize that finding the amount for greatest increase is just about using my pl_change this to find the greatest positive change (maximum value in pl_change list)"
   ]
  },
  {
   "cell_type": "code",
   "execution_count": 54,
   "id": "f5451e5a-582a-4813-97fa-3aff15725f1f",
   "metadata": {},
   "outputs": [
    {
     "data": {
      "text/plain": [
       "1926159"
      ]
     },
     "execution_count": 54,
     "metadata": {},
     "output_type": "execute_result"
    }
   ],
   "source": [
    "max(pl_change)"
   ]
  },
  {
   "cell_type": "markdown",
   "id": "b85f8645-42a4-4a67-a18d-ed3f6a07b2c1",
   "metadata": {},
   "source": [
    "#### I want to set this as a variable to use later in the print function:"
   ]
  },
  {
   "cell_type": "code",
   "execution_count": 58,
   "id": "2402b5c0-3c07-4932-9efa-4c52c48e9132",
   "metadata": {},
   "outputs": [],
   "source": [
    "greatest_increase = max(pl_change)"
   ]
  },
  {
   "cell_type": "markdown",
   "id": "965f5083-d6c5-499c-ada5-916309a1fed0",
   "metadata": {},
   "source": [
    "#### Then finding greatest decrease is finding minimum value in pl_change list"
   ]
  },
  {
   "cell_type": "code",
   "execution_count": 59,
   "id": "6e5c7182-dc19-45e5-bbcc-203b5be7fcd5",
   "metadata": {},
   "outputs": [
    {
     "data": {
      "text/plain": [
       "-2196167"
      ]
     },
     "execution_count": 59,
     "metadata": {},
     "output_type": "execute_result"
    }
   ],
   "source": [
    "min(pl_change)"
   ]
  },
  {
   "cell_type": "markdown",
   "id": "d369ff05-cbd2-4402-86c3-c1e0643d1e9b",
   "metadata": {},
   "source": [
    "#### Setting the greatest decrease as a variable for the print function:"
   ]
  },
  {
   "cell_type": "code",
   "execution_count": 60,
   "id": "d1378413-89b0-410d-be49-d5e1d2930d01",
   "metadata": {},
   "outputs": [],
   "source": [
    "greatest_decrease = min(pl_change)"
   ]
  },
  {
   "cell_type": "markdown",
   "id": "0f42bfca-9d07-4943-8a50-90f6ca8cc013",
   "metadata": {},
   "source": [
    "#### Now I realize it's trickier than I thought because I need to match up the greatest increase and decrease to the months that they occurred. I start messing around with the index positions. I want to figure out how to identify the index position of the greatest increase first in my pl_change list:"
   ]
  },
  {
   "cell_type": "code",
   "execution_count": 68,
   "id": "d3defd98-5199-4155-87fb-fc8592c5538d",
   "metadata": {},
   "outputs": [
    {
     "name": "stdout",
     "output_type": "stream",
     "text": [
      "24\n"
     ]
    }
   ],
   "source": [
    "index_greatest_increase = pl_change.index(greatest_increase)\n",
    "print(index_greatest_increase)"
   ]
  },
  {
   "cell_type": "markdown",
   "id": "af49ea48-83f9-4ffe-a875-317ac2938a59",
   "metadata": {},
   "source": [
    "#### But since 24 is still the index position in the pl_change list, I need to figure out if the greatest increase is actually lining up with the values in the dictionary:"
   ]
  },
  {
   "cell_type": "code",
   "execution_count": 73,
   "id": "ff6bbce4-37a3-4f9a-99ad-c66b8260ba86",
   "metadata": {},
   "outputs": [
    {
     "name": "stdout",
     "output_type": "stream",
     "text": [
      "Jan-2012\n"
     ]
    }
   ],
   "source": [
    "print(months[index_greatest_increase])"
   ]
  },
  {
   "cell_type": "code",
   "execution_count": 105,
   "id": "5232d87b-e4f6-4c89-8d18-6bdb9054b463",
   "metadata": {},
   "outputs": [
    {
     "name": "stdout",
     "output_type": "stream",
     "text": [
      "-755566\n"
     ]
    }
   ],
   "source": [
    "print(pl_values[index_greatest_increase])"
   ]
  },
  {
   "cell_type": "markdown",
   "id": "e626e2cd-b288-4145-b9e2-42bacde05b14",
   "metadata": {},
   "source": [
    "#### This looks weird so I want to visually compare this Jan-2012 result to my budget dictionary:"
   ]
  },
  {
   "cell_type": "code",
   "execution_count": 76,
   "id": "59efac09-2dfc-4119-8e73-d3410a601d9e",
   "metadata": {},
   "outputs": [
    {
     "data": {
      "text/plain": [
       "{'Jan-2010': 867884,\n",
       " 'Feb-2010': 984655,\n",
       " 'Mar-2010': 322013,\n",
       " 'Apr-2010': -69417,\n",
       " 'May-2010': 310503,\n",
       " 'Jun-2010': 522857,\n",
       " 'Jul-2010': 1033096,\n",
       " 'Aug-2010': 604885,\n",
       " 'Sep-2010': -216386,\n",
       " 'Oct-2010': 477532,\n",
       " 'Nov-2010': 893810,\n",
       " 'Dec-2010': -80353,\n",
       " 'Jan-2011': 779806,\n",
       " 'Feb-2011': -335203,\n",
       " 'Mar-2011': 697845,\n",
       " 'Apr-2011': 793163,\n",
       " 'May-2011': 485070,\n",
       " 'Jun-2011': 584122,\n",
       " 'Jul-2011': 62729,\n",
       " 'Aug-2011': 668179,\n",
       " 'Sep-2011': 899906,\n",
       " 'Oct-2011': 834719,\n",
       " 'Nov-2011': 132003,\n",
       " 'Dec-2011': 309978,\n",
       " 'Jan-2012': -755566,\n",
       " 'Feb-2012': 1170593,\n",
       " 'Mar-2012': 252788,\n",
       " 'Apr-2012': 1151518,\n",
       " 'May-2012': 817256,\n",
       " 'Jun-2012': 570757,\n",
       " 'Jul-2012': 506702,\n",
       " 'Aug-2012': -1022534,\n",
       " 'Sep-2012': 475062,\n",
       " 'Oct-2012': 779976,\n",
       " 'Nov-2012': 144175,\n",
       " 'Dec-2012': 542494,\n",
       " 'Jan-2013': 359333,\n",
       " 'Feb-2013': 321469,\n",
       " 'Mar-2013': 67780,\n",
       " 'Apr-2013': 471435,\n",
       " 'May-2013': 565603,\n",
       " 'Jun-2013': 872480,\n",
       " 'Jul-2013': 789480,\n",
       " 'Aug-2013': 999942,\n",
       " 'Sep-2013': -1196225,\n",
       " 'Oct-2013': 268997,\n",
       " 'Nov-2013': -687986,\n",
       " 'Dec-2013': 1150461,\n",
       " 'Jan-2014': 682458,\n",
       " 'Feb-2014': 617856,\n",
       " 'Mar-2014': 824098,\n",
       " 'Apr-2014': 581943,\n",
       " 'May-2014': 132864,\n",
       " 'Jun-2014': 448062,\n",
       " 'Jul-2014': 689161,\n",
       " 'Aug-2014': 800701,\n",
       " 'Sep-2014': 1166643,\n",
       " 'Oct-2014': 947333,\n",
       " 'Nov-2014': 578668,\n",
       " 'Dec-2014': 988505,\n",
       " 'Jan-2015': 1139715,\n",
       " 'Feb-2015': 1029471,\n",
       " 'Mar-2015': 687533,\n",
       " 'Apr-2015': -524626,\n",
       " 'May-2015': 158620,\n",
       " 'Jun-2015': 87795,\n",
       " 'Jul-2015': 423389,\n",
       " 'Aug-2015': 840723,\n",
       " 'Sep-2015': 568529,\n",
       " 'Oct-2015': 332067,\n",
       " 'Nov-2015': 989499,\n",
       " 'Dec-2015': 778237,\n",
       " 'Jan-2016': 650000,\n",
       " 'Feb-2016': -1100387,\n",
       " 'Mar-2016': -174946,\n",
       " 'Apr-2016': 757143,\n",
       " 'May-2016': 445709,\n",
       " 'Jun-2016': 712961,\n",
       " 'Jul-2016': -1163797,\n",
       " 'Aug-2016': 569899,\n",
       " 'Sep-2016': 768450,\n",
       " 'Oct-2016': 102685,\n",
       " 'Nov-2016': 795914,\n",
       " 'Dec-2016': 60988,\n",
       " 'Jan-2017': 138230,\n",
       " 'Feb-2017': 671099}"
      ]
     },
     "execution_count": 76,
     "metadata": {},
     "output_type": "execute_result"
    }
   ],
   "source": [
    "new_budget_dict"
   ]
  },
  {
   "cell_type": "markdown",
   "id": "5a6f0606-f0a7-44c8-a07b-bc0a056234d6",
   "metadata": {},
   "source": [
    "#### It looks like the index position from the pl_change list is showing the month before the month that shows the greatest increase in the budget dictionary, so need to add 1 to the pl_change index number to return the correct index number in the dictionary"
   ]
  },
  {
   "cell_type": "code",
   "execution_count": 78,
   "id": "4e81e3f0-fd2c-48e8-8a59-53e73c8ff0b2",
   "metadata": {},
   "outputs": [
    {
     "name": "stdout",
     "output_type": "stream",
     "text": [
      "Feb-2012\n"
     ]
    }
   ],
   "source": [
    "print(months[index_greatest_increase+1])"
   ]
  },
  {
   "cell_type": "code",
   "execution_count": 79,
   "id": "ca42d861-7407-4373-88e1-8ee9c90495ba",
   "metadata": {},
   "outputs": [],
   "source": [
    "month_greatest_increase = months[index_greatest_increase+1]"
   ]
  },
  {
   "cell_type": "code",
   "execution_count": 80,
   "id": "c657d97a-953f-4455-a611-39fdcc2fb62f",
   "metadata": {},
   "outputs": [
    {
     "data": {
      "text/plain": [
       "'Feb-2012'"
      ]
     },
     "execution_count": 80,
     "metadata": {},
     "output_type": "execute_result"
    }
   ],
   "source": [
    "month_greatest_increase"
   ]
  },
  {
   "cell_type": "markdown",
   "id": "f68c6045-50c2-40e4-9fcb-96dda7f47c4e",
   "metadata": {},
   "source": [
    "#### I want to do the same thing now for finding the month of the greatest decrease"
   ]
  },
  {
   "cell_type": "code",
   "execution_count": 82,
   "id": "aa29e5af-2e72-42c5-a469-58882b0edb1f",
   "metadata": {},
   "outputs": [
    {
     "name": "stdout",
     "output_type": "stream",
     "text": [
      "43\n"
     ]
    }
   ],
   "source": [
    "index_greatest_decrease = pl_change.index(greatest_decrease)\n",
    "print(index_greatest_decrease)"
   ]
  },
  {
   "cell_type": "code",
   "execution_count": 83,
   "id": "aec992fd-80d4-48c4-9ea2-536688dcb6cc",
   "metadata": {},
   "outputs": [
    {
     "name": "stdout",
     "output_type": "stream",
     "text": [
      "Sep-2013\n"
     ]
    }
   ],
   "source": [
    "print(months[index_greatest_decrease+1])"
   ]
  },
  {
   "cell_type": "code",
   "execution_count": 84,
   "id": "48400774-562a-4a36-9e7c-4491ee57c590",
   "metadata": {},
   "outputs": [],
   "source": [
    "month_greatest_decrease = months[index_greatest_decrease+1]"
   ]
  },
  {
   "cell_type": "code",
   "execution_count": 85,
   "id": "fe77e61d-8fbb-4209-8c07-513a3b8337a1",
   "metadata": {},
   "outputs": [
    {
     "data": {
      "text/plain": [
       "'Sep-2013'"
      ]
     },
     "execution_count": 85,
     "metadata": {},
     "output_type": "execute_result"
    }
   ],
   "source": [
    "month_greatest_decrease"
   ]
  },
  {
   "cell_type": "markdown",
   "id": "921385ae-cd9c-44cc-a044-943347e3796f",
   "metadata": {},
   "source": [
    "# Step 7 - PRINTING THE OUTPUT!"
   ]
  },
  {
   "cell_type": "markdown",
   "id": "ee7c61fb-4575-4eec-a58a-2b977c9175ab",
   "metadata": {},
   "source": [
    "#### this is just because I struggled with the f'string and at one point I wanted to figure out a way to break the lines in the f string:"
   ]
  },
  {
   "cell_type": "code",
   "execution_count": 40,
   "id": "81179211-900b-4c4e-9fef-9c3e6b184bbb",
   "metadata": {},
   "outputs": [],
   "source": [
    "new_line = '\\n'"
   ]
  },
  {
   "cell_type": "markdown",
   "id": "f9c6bfbb-07e7-48f9-a4c1-4364e56a5f00",
   "metadata": {},
   "source": [
    "#### The final print out:"
   ]
  },
  {
   "cell_type": "code",
   "execution_count": 124,
   "id": "d75e55c4-1593-4a8b-b7bf-fa8655f58218",
   "metadata": {},
   "outputs": [
    {
     "name": "stdout",
     "output_type": "stream",
     "text": [
      "Financial Analysis\n",
      "--------------------------------\n",
      "\n",
      "Total Months: 86\n",
      "Total: $38382578\n",
      "Average Change: $-2315.12\n",
      "Greatest Increase in Profits: Feb-2012 ($1926159)\n",
      "Greatest Decrease in Profits: Sep-2013 ($-2196167)\n"
     ]
    }
   ],
   "source": [
    "print(f\"Financial Analysis\")\n",
    "print(f\"--------------------------------{new_line}\")\n",
    "print(f\"Total Months: {total_months}\")\n",
    "print(f\"Total: ${total}\")\n",
    "print(f\"Average Change: ${avg_change}\")\n",
    "print(f\"Greatest Increase in Profits: {month_greatest_increase} (${greatest_increase})\")\n",
    "print(f\"Greatest Decrease in Profits: {month_greatest_decrease} (${greatest_decrease})\")"
   ]
  },
  {
   "cell_type": "markdown",
   "id": "5b542e78-c5d9-4981-ad80-d72b5527aae8",
   "metadata": {},
   "source": [
    "# Step 8 - Clean Script"
   ]
  },
  {
   "cell_type": "code",
   "execution_count": 125,
   "id": "a4b7a561-2aa5-4760-b674-96894bc4e1bb",
   "metadata": {},
   "outputs": [
    {
     "data": {
      "text/plain": [
       "{'Jan-2010': 867884,\n",
       " 'Feb-2010': 984655,\n",
       " 'Mar-2010': 322013,\n",
       " 'Apr-2010': -69417,\n",
       " 'May-2010': 310503,\n",
       " 'Jun-2010': 522857,\n",
       " 'Jul-2010': 1033096,\n",
       " 'Aug-2010': 604885,\n",
       " 'Sep-2010': -216386,\n",
       " 'Oct-2010': 477532,\n",
       " 'Nov-2010': 893810,\n",
       " 'Dec-2010': -80353,\n",
       " 'Jan-2011': 779806,\n",
       " 'Feb-2011': -335203,\n",
       " 'Mar-2011': 697845,\n",
       " 'Apr-2011': 793163,\n",
       " 'May-2011': 485070,\n",
       " 'Jun-2011': 584122,\n",
       " 'Jul-2011': 62729,\n",
       " 'Aug-2011': 668179,\n",
       " 'Sep-2011': 899906,\n",
       " 'Oct-2011': 834719,\n",
       " 'Nov-2011': 132003,\n",
       " 'Dec-2011': 309978,\n",
       " 'Jan-2012': -755566,\n",
       " 'Feb-2012': 1170593,\n",
       " 'Mar-2012': 252788,\n",
       " 'Apr-2012': 1151518,\n",
       " 'May-2012': 817256,\n",
       " 'Jun-2012': 570757,\n",
       " 'Jul-2012': 506702,\n",
       " 'Aug-2012': -1022534,\n",
       " 'Sep-2012': 475062,\n",
       " 'Oct-2012': 779976,\n",
       " 'Nov-2012': 144175,\n",
       " 'Dec-2012': 542494,\n",
       " 'Jan-2013': 359333,\n",
       " 'Feb-2013': 321469,\n",
       " 'Mar-2013': 67780,\n",
       " 'Apr-2013': 471435,\n",
       " 'May-2013': 565603,\n",
       " 'Jun-2013': 872480,\n",
       " 'Jul-2013': 789480,\n",
       " 'Aug-2013': 999942,\n",
       " 'Sep-2013': -1196225,\n",
       " 'Oct-2013': 268997,\n",
       " 'Nov-2013': -687986,\n",
       " 'Dec-2013': 1150461,\n",
       " 'Jan-2014': 682458,\n",
       " 'Feb-2014': 617856,\n",
       " 'Mar-2014': 824098,\n",
       " 'Apr-2014': 581943,\n",
       " 'May-2014': 132864,\n",
       " 'Jun-2014': 448062,\n",
       " 'Jul-2014': 689161,\n",
       " 'Aug-2014': 800701,\n",
       " 'Sep-2014': 1166643,\n",
       " 'Oct-2014': 947333,\n",
       " 'Nov-2014': 578668,\n",
       " 'Dec-2014': 988505,\n",
       " 'Jan-2015': 1139715,\n",
       " 'Feb-2015': 1029471,\n",
       " 'Mar-2015': 687533,\n",
       " 'Apr-2015': -524626,\n",
       " 'May-2015': 158620,\n",
       " 'Jun-2015': 87795,\n",
       " 'Jul-2015': 423389,\n",
       " 'Aug-2015': 840723,\n",
       " 'Sep-2015': 568529,\n",
       " 'Oct-2015': 332067,\n",
       " 'Nov-2015': 989499,\n",
       " 'Dec-2015': 778237,\n",
       " 'Jan-2016': 650000,\n",
       " 'Feb-2016': -1100387,\n",
       " 'Mar-2016': -174946,\n",
       " 'Apr-2016': 757143,\n",
       " 'May-2016': 445709,\n",
       " 'Jun-2016': 712961,\n",
       " 'Jul-2016': -1163797,\n",
       " 'Aug-2016': 569899,\n",
       " 'Sep-2016': 768450,\n",
       " 'Oct-2016': 102685,\n",
       " 'Nov-2016': 795914,\n",
       " 'Dec-2016': 60988,\n",
       " 'Jan-2017': 138230,\n",
       " 'Feb-2017': 671099}"
      ]
     },
     "execution_count": 125,
     "metadata": {},
     "output_type": "execute_result"
    }
   ],
   "source": [
    "new_budget_dict"
   ]
  },
  {
   "cell_type": "code",
   "execution_count": 126,
   "id": "6ab33f40-c4fe-49eb-a96f-51fe078f6a3d",
   "metadata": {},
   "outputs": [],
   "source": [
    "months_clean = list(new_budget_dict.keys())"
   ]
  },
  {
   "cell_type": "code",
   "execution_count": 127,
   "id": "9f125328-3384-423e-ac84-3ba07c209b22",
   "metadata": {},
   "outputs": [],
   "source": [
    "pl_values_clean = list(new_budget_dict.values())"
   ]
  },
  {
   "cell_type": "code",
   "execution_count": 132,
   "id": "cfe42926-0315-4f91-9b5c-b0d7e76fe8ac",
   "metadata": {},
   "outputs": [],
   "source": [
    "total_months_clean = len(months_clean)"
   ]
  },
  {
   "cell_type": "code",
   "execution_count": 134,
   "id": "c9f5e4d3-0dd8-4cc4-aff0-ed881b57f14b",
   "metadata": {},
   "outputs": [],
   "source": [
    "total_pl_clean = sum(pl_values_clean)"
   ]
  },
  {
   "cell_type": "code",
   "execution_count": 137,
   "id": "d2232544-532d-4717-a887-c3eaf90aa8ff",
   "metadata": {},
   "outputs": [],
   "source": [
    "pl_change_clean = [pl_values_clean[pl + 1] - pl_values_clean[pl] for pl in range(len(pl_values_clean)-1)]"
   ]
  },
  {
   "cell_type": "code",
   "execution_count": 139,
   "id": "6e927f6c-5a3f-4013-9e1f-409f889ab545",
   "metadata": {},
   "outputs": [],
   "source": [
    "avg_change_clean = round(sum(pl_change_clean)/len(pl_change_clean), 2)"
   ]
  },
  {
   "cell_type": "code",
   "execution_count": 141,
   "id": "d49dc98b-c835-4044-92ed-a5952ab69db1",
   "metadata": {},
   "outputs": [],
   "source": [
    "greatest_increase_clean = max(pl_change_clean)"
   ]
  },
  {
   "cell_type": "code",
   "execution_count": 142,
   "id": "17d89593-3ce6-4a1f-8a00-c358c480df08",
   "metadata": {},
   "outputs": [],
   "source": [
    "greatest_decrease_clean = min(pl_change_clean)"
   ]
  },
  {
   "cell_type": "code",
   "execution_count": 143,
   "id": "fa44c506-1800-4438-9c11-934b2cccef52",
   "metadata": {},
   "outputs": [],
   "source": [
    "index_greatest_increase_clean = pl_change_clean.index(greatest_increase_clean)"
   ]
  },
  {
   "cell_type": "code",
   "execution_count": 144,
   "id": "b60e9f3b-f510-4634-aab1-d86091acdf52",
   "metadata": {},
   "outputs": [],
   "source": [
    "index_greatest_decrease_clean = pl_change_clean.index(greatest_decrease_clean)"
   ]
  },
  {
   "cell_type": "code",
   "execution_count": 145,
   "id": "cf43a546-1066-47ca-a685-7e878d75dbf6",
   "metadata": {},
   "outputs": [],
   "source": [
    "month_greatest_increase_clean = months_clean[index_greatest_increase_clean+1]"
   ]
  },
  {
   "cell_type": "code",
   "execution_count": 146,
   "id": "a4fb1239-0b19-477c-be49-855fc5fc4c26",
   "metadata": {},
   "outputs": [],
   "source": [
    "month_greatest_decrease_clean = months_clean[index_greatest_decrease_clean+1]"
   ]
  },
  {
   "cell_type": "code",
   "execution_count": 149,
   "id": "5b305e59-a054-4d67-b65b-639a189b3db0",
   "metadata": {},
   "outputs": [
    {
     "name": "stdout",
     "output_type": "stream",
     "text": [
      "Financial Analysis\n",
      "--------------------------------\n",
      "Total Months: 86\n",
      "Total: $38382578\n",
      "Average Change: $-2315.12\n",
      "Greatest Increase in Profits: Feb-2012 ($1926159)\n",
      "Greatest Decrease in Profits: Sep-2013 ($-2196167)\n"
     ]
    }
   ],
   "source": [
    "print(f\"Financial Analysis\")\n",
    "print(f\"--------------------------------\")\n",
    "print(f\"Total Months: {total_months_clean}\")\n",
    "print(f\"Total: ${total_pl_clean}\")\n",
    "print(f\"Average Change: ${avg_change_clean}\")\n",
    "print(f\"Greatest Increase in Profits: {month_greatest_increase_clean} (${greatest_increase_clean})\")\n",
    "print(f\"Greatest Decrease in Profits: {month_greatest_decrease_clean} (${greatest_decrease_clean})\")"
   ]
  },
  {
   "cell_type": "markdown",
   "id": "170d8a90-84bb-47ef-9f07-1983352ff43a",
   "metadata": {},
   "source": [
    "#### I realize I'm still stuck with the manual step of conforming the data from the csv to the new_budget_dict, and there has to be a way to make that cleaner..."
   ]
  },
  {
   "cell_type": "code",
   "execution_count": null,
   "id": "e18eb69d-a343-4072-bcab-6ec7e740a58d",
   "metadata": {},
   "outputs": [],
   "source": []
  }
 ],
 "metadata": {
  "kernelspec": {
   "display_name": "Python 3 (ipykernel)",
   "language": "python",
   "name": "python3"
  },
  "language_info": {
   "codemirror_mode": {
    "name": "ipython",
    "version": 3
   },
   "file_extension": ".py",
   "mimetype": "text/x-python",
   "name": "python",
   "nbconvert_exporter": "python",
   "pygments_lexer": "ipython3",
   "version": "3.9.7"
  }
 },
 "nbformat": 4,
 "nbformat_minor": 5
}
